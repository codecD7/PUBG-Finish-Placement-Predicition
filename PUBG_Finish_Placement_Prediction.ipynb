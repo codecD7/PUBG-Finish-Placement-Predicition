{
  "nbformat": 4,
  "nbformat_minor": 0,
  "metadata": {
    "colab": {
      "name": "PUBG Finish Placement Prediction .ipynb",
      "version": "0.3.2",
      "provenance": [],
      "include_colab_link": true
    },
    "kernelspec": {
      "name": "python3",
      "display_name": "Python 3"
    },
    "accelerator": "TPU"
  },
  "cells": [
    {
      "cell_type": "markdown",
      "metadata": {
        "id": "view-in-github",
        "colab_type": "text"
      },
      "source": [
        "<a href=\"https://colab.research.google.com/github/codecx07/PUBG-Finish-Placement-Predicition/blob/master/PUBG_Finish_Placement_Prediction.ipynb\" target=\"_parent\"><img src=\"https://colab.research.google.com/assets/colab-badge.svg\" alt=\"Open In Colab\"/></a>"
      ]
    },
    {
      "metadata": {
        "id": "OTIIbsHeEZVx",
        "colab_type": "code",
        "colab": {}
      },
      "cell_type": "code",
      "source": [
        "import pandas as pd"
      ],
      "execution_count": 0,
      "outputs": []
    },
    {
      "metadata": {
        "id": "-IKnsM54nyfV",
        "colab_type": "code",
        "colab": {}
      },
      "cell_type": "code",
      "source": [
        "!pip install -U -q PyDrive\n",
        "from pydrive.auth import GoogleAuth\n",
        "from pydrive.drive import GoogleDrive\n",
        "from google.colab import auth\n",
        "from oauth2client.client import GoogleCredentials\n",
        "\n",
        "auth.authenticate_user()\n",
        "gauth = GoogleAuth()\n",
        "gauth.credentials = GoogleCredentials.get_application_default()\n",
        "drive = GoogleDrive(gauth)"
      ],
      "execution_count": 0,
      "outputs": []
    },
    {
      "metadata": {
        "id": "t_0JRHgHoDOI",
        "colab_type": "code",
        "colab": {}
      },
      "cell_type": "code",
      "source": [
        "id = '1j23rhbSuMIJkX4JOaP35Dg4QaLsmgqzR'\n",
        "downloaded = drive.CreateFile({'id':id}) \n",
        "downloaded.GetContentFile('Filename.csv')  \n",
        "pubg_train = pd.read_csv('Filename.csv')\n",
        "\n",
        "id = '1t-45ztlJctT8UAAHEe1jbThwNsyPw0DB'\n",
        "downloaded = drive.CreateFile({'id':id}) \n",
        "downloaded.GetContentFile('Filename.csv')  \n",
        "pubg_test = pd.read_csv('Filename.csv')"
      ],
      "execution_count": 0,
      "outputs": []
    },
    {
      "metadata": {
        "id": "pSUcFhOLonUU",
        "colab_type": "code",
        "outputId": "f03ea162-0c96-426b-eef2-a189fecd2e7c",
        "colab": {
          "base_uri": "https://localhost:8080/",
          "height": 270
        }
      },
      "cell_type": "code",
      "source": [
        "print(pubg_train.shape)\n",
        "pubg_train.head()"
      ],
      "execution_count": 0,
      "outputs": [
        {
          "output_type": "stream",
          "text": [
            "(4446966, 29)\n"
          ],
          "name": "stdout"
        },
        {
          "output_type": "execute_result",
          "data": {
            "text/html": [
              "<div>\n",
              "<style scoped>\n",
              "    .dataframe tbody tr th:only-of-type {\n",
              "        vertical-align: middle;\n",
              "    }\n",
              "\n",
              "    .dataframe tbody tr th {\n",
              "        vertical-align: top;\n",
              "    }\n",
              "\n",
              "    .dataframe thead th {\n",
              "        text-align: right;\n",
              "    }\n",
              "</style>\n",
              "<table border=\"1\" class=\"dataframe\">\n",
              "  <thead>\n",
              "    <tr style=\"text-align: right;\">\n",
              "      <th></th>\n",
              "      <th>Id</th>\n",
              "      <th>groupId</th>\n",
              "      <th>matchId</th>\n",
              "      <th>assists</th>\n",
              "      <th>boosts</th>\n",
              "      <th>damageDealt</th>\n",
              "      <th>DBNOs</th>\n",
              "      <th>headshotKills</th>\n",
              "      <th>heals</th>\n",
              "      <th>killPlace</th>\n",
              "      <th>...</th>\n",
              "      <th>revives</th>\n",
              "      <th>rideDistance</th>\n",
              "      <th>roadKills</th>\n",
              "      <th>swimDistance</th>\n",
              "      <th>teamKills</th>\n",
              "      <th>vehicleDestroys</th>\n",
              "      <th>walkDistance</th>\n",
              "      <th>weaponsAcquired</th>\n",
              "      <th>winPoints</th>\n",
              "      <th>winPlacePerc</th>\n",
              "    </tr>\n",
              "  </thead>\n",
              "  <tbody>\n",
              "    <tr>\n",
              "      <th>0</th>\n",
              "      <td>7f96b2f878858a</td>\n",
              "      <td>4d4b580de459be</td>\n",
              "      <td>a10357fd1a4a91</td>\n",
              "      <td>0</td>\n",
              "      <td>0</td>\n",
              "      <td>0.00</td>\n",
              "      <td>0</td>\n",
              "      <td>0</td>\n",
              "      <td>0</td>\n",
              "      <td>60</td>\n",
              "      <td>...</td>\n",
              "      <td>0</td>\n",
              "      <td>0.0000</td>\n",
              "      <td>0</td>\n",
              "      <td>0.00</td>\n",
              "      <td>0</td>\n",
              "      <td>0</td>\n",
              "      <td>244.80</td>\n",
              "      <td>1</td>\n",
              "      <td>1466</td>\n",
              "      <td>0.4444</td>\n",
              "    </tr>\n",
              "    <tr>\n",
              "      <th>1</th>\n",
              "      <td>eef90569b9d03c</td>\n",
              "      <td>684d5656442f9e</td>\n",
              "      <td>aeb375fc57110c</td>\n",
              "      <td>0</td>\n",
              "      <td>0</td>\n",
              "      <td>91.47</td>\n",
              "      <td>0</td>\n",
              "      <td>0</td>\n",
              "      <td>0</td>\n",
              "      <td>57</td>\n",
              "      <td>...</td>\n",
              "      <td>0</td>\n",
              "      <td>0.0045</td>\n",
              "      <td>0</td>\n",
              "      <td>11.04</td>\n",
              "      <td>0</td>\n",
              "      <td>0</td>\n",
              "      <td>1434.00</td>\n",
              "      <td>5</td>\n",
              "      <td>0</td>\n",
              "      <td>0.6400</td>\n",
              "    </tr>\n",
              "    <tr>\n",
              "      <th>2</th>\n",
              "      <td>1eaf90ac73de72</td>\n",
              "      <td>6a4a42c3245a74</td>\n",
              "      <td>110163d8bb94ae</td>\n",
              "      <td>1</td>\n",
              "      <td>0</td>\n",
              "      <td>68.00</td>\n",
              "      <td>0</td>\n",
              "      <td>0</td>\n",
              "      <td>0</td>\n",
              "      <td>47</td>\n",
              "      <td>...</td>\n",
              "      <td>0</td>\n",
              "      <td>0.0000</td>\n",
              "      <td>0</td>\n",
              "      <td>0.00</td>\n",
              "      <td>0</td>\n",
              "      <td>0</td>\n",
              "      <td>161.80</td>\n",
              "      <td>2</td>\n",
              "      <td>0</td>\n",
              "      <td>0.7755</td>\n",
              "    </tr>\n",
              "    <tr>\n",
              "      <th>3</th>\n",
              "      <td>4616d365dd2853</td>\n",
              "      <td>a930a9c79cd721</td>\n",
              "      <td>f1f1f4ef412d7e</td>\n",
              "      <td>0</td>\n",
              "      <td>0</td>\n",
              "      <td>32.90</td>\n",
              "      <td>0</td>\n",
              "      <td>0</td>\n",
              "      <td>0</td>\n",
              "      <td>75</td>\n",
              "      <td>...</td>\n",
              "      <td>0</td>\n",
              "      <td>0.0000</td>\n",
              "      <td>0</td>\n",
              "      <td>0.00</td>\n",
              "      <td>0</td>\n",
              "      <td>0</td>\n",
              "      <td>202.70</td>\n",
              "      <td>3</td>\n",
              "      <td>0</td>\n",
              "      <td>0.1667</td>\n",
              "    </tr>\n",
              "    <tr>\n",
              "      <th>4</th>\n",
              "      <td>315c96c26c9aac</td>\n",
              "      <td>de04010b3458dd</td>\n",
              "      <td>6dc8ff871e21e6</td>\n",
              "      <td>0</td>\n",
              "      <td>0</td>\n",
              "      <td>100.00</td>\n",
              "      <td>0</td>\n",
              "      <td>0</td>\n",
              "      <td>0</td>\n",
              "      <td>45</td>\n",
              "      <td>...</td>\n",
              "      <td>0</td>\n",
              "      <td>0.0000</td>\n",
              "      <td>0</td>\n",
              "      <td>0.00</td>\n",
              "      <td>0</td>\n",
              "      <td>0</td>\n",
              "      <td>49.75</td>\n",
              "      <td>2</td>\n",
              "      <td>0</td>\n",
              "      <td>0.1875</td>\n",
              "    </tr>\n",
              "  </tbody>\n",
              "</table>\n",
              "<p>5 rows × 29 columns</p>\n",
              "</div>"
            ],
            "text/plain": [
              "               Id         groupId         matchId  assists  boosts  \\\n",
              "0  7f96b2f878858a  4d4b580de459be  a10357fd1a4a91        0       0   \n",
              "1  eef90569b9d03c  684d5656442f9e  aeb375fc57110c        0       0   \n",
              "2  1eaf90ac73de72  6a4a42c3245a74  110163d8bb94ae        1       0   \n",
              "3  4616d365dd2853  a930a9c79cd721  f1f1f4ef412d7e        0       0   \n",
              "4  315c96c26c9aac  de04010b3458dd  6dc8ff871e21e6        0       0   \n",
              "\n",
              "   damageDealt  DBNOs  headshotKills  heals  killPlace      ...       revives  \\\n",
              "0         0.00      0              0      0         60      ...             0   \n",
              "1        91.47      0              0      0         57      ...             0   \n",
              "2        68.00      0              0      0         47      ...             0   \n",
              "3        32.90      0              0      0         75      ...             0   \n",
              "4       100.00      0              0      0         45      ...             0   \n",
              "\n",
              "   rideDistance  roadKills  swimDistance  teamKills vehicleDestroys  \\\n",
              "0        0.0000          0          0.00          0               0   \n",
              "1        0.0045          0         11.04          0               0   \n",
              "2        0.0000          0          0.00          0               0   \n",
              "3        0.0000          0          0.00          0               0   \n",
              "4        0.0000          0          0.00          0               0   \n",
              "\n",
              "   walkDistance  weaponsAcquired  winPoints  winPlacePerc  \n",
              "0        244.80                1       1466        0.4444  \n",
              "1       1434.00                5          0        0.6400  \n",
              "2        161.80                2          0        0.7755  \n",
              "3        202.70                3          0        0.1667  \n",
              "4         49.75                2          0        0.1875  \n",
              "\n",
              "[5 rows x 29 columns]"
            ]
          },
          "metadata": {
            "tags": []
          },
          "execution_count": 4
        }
      ]
    },
    {
      "metadata": {
        "id": "3v5cpy9y9yso",
        "colab_type": "code",
        "outputId": "71f725ff-607d-4c5a-a144-03440d1624bc",
        "colab": {
          "base_uri": "https://localhost:8080/",
          "height": 270
        }
      },
      "cell_type": "code",
      "source": [
        "print(pubg_test.shape)\n",
        "pubg_test.head()"
      ],
      "execution_count": 0,
      "outputs": [
        {
          "output_type": "stream",
          "text": [
            "(1934174, 28)\n"
          ],
          "name": "stdout"
        },
        {
          "output_type": "execute_result",
          "data": {
            "text/html": [
              "<div>\n",
              "<style scoped>\n",
              "    .dataframe tbody tr th:only-of-type {\n",
              "        vertical-align: middle;\n",
              "    }\n",
              "\n",
              "    .dataframe tbody tr th {\n",
              "        vertical-align: top;\n",
              "    }\n",
              "\n",
              "    .dataframe thead th {\n",
              "        text-align: right;\n",
              "    }\n",
              "</style>\n",
              "<table border=\"1\" class=\"dataframe\">\n",
              "  <thead>\n",
              "    <tr style=\"text-align: right;\">\n",
              "      <th></th>\n",
              "      <th>Id</th>\n",
              "      <th>groupId</th>\n",
              "      <th>matchId</th>\n",
              "      <th>assists</th>\n",
              "      <th>boosts</th>\n",
              "      <th>damageDealt</th>\n",
              "      <th>DBNOs</th>\n",
              "      <th>headshotKills</th>\n",
              "      <th>heals</th>\n",
              "      <th>killPlace</th>\n",
              "      <th>...</th>\n",
              "      <th>rankPoints</th>\n",
              "      <th>revives</th>\n",
              "      <th>rideDistance</th>\n",
              "      <th>roadKills</th>\n",
              "      <th>swimDistance</th>\n",
              "      <th>teamKills</th>\n",
              "      <th>vehicleDestroys</th>\n",
              "      <th>walkDistance</th>\n",
              "      <th>weaponsAcquired</th>\n",
              "      <th>winPoints</th>\n",
              "    </tr>\n",
              "  </thead>\n",
              "  <tbody>\n",
              "    <tr>\n",
              "      <th>0</th>\n",
              "      <td>9329eb41e215eb</td>\n",
              "      <td>676b23c24e70d6</td>\n",
              "      <td>45b576ab7daa7f</td>\n",
              "      <td>0</td>\n",
              "      <td>0</td>\n",
              "      <td>51.46</td>\n",
              "      <td>0</td>\n",
              "      <td>0</td>\n",
              "      <td>0</td>\n",
              "      <td>73</td>\n",
              "      <td>...</td>\n",
              "      <td>1500</td>\n",
              "      <td>0</td>\n",
              "      <td>0.0</td>\n",
              "      <td>0</td>\n",
              "      <td>0.0</td>\n",
              "      <td>0</td>\n",
              "      <td>0</td>\n",
              "      <td>588.0</td>\n",
              "      <td>1</td>\n",
              "      <td>0</td>\n",
              "    </tr>\n",
              "    <tr>\n",
              "      <th>1</th>\n",
              "      <td>639bd0dcd7bda8</td>\n",
              "      <td>430933124148dd</td>\n",
              "      <td>42a9a0b906c928</td>\n",
              "      <td>0</td>\n",
              "      <td>4</td>\n",
              "      <td>179.10</td>\n",
              "      <td>0</td>\n",
              "      <td>0</td>\n",
              "      <td>2</td>\n",
              "      <td>11</td>\n",
              "      <td>...</td>\n",
              "      <td>1503</td>\n",
              "      <td>2</td>\n",
              "      <td>4669.0</td>\n",
              "      <td>0</td>\n",
              "      <td>0.0</td>\n",
              "      <td>0</td>\n",
              "      <td>0</td>\n",
              "      <td>2017.0</td>\n",
              "      <td>6</td>\n",
              "      <td>0</td>\n",
              "    </tr>\n",
              "    <tr>\n",
              "      <th>2</th>\n",
              "      <td>63d5c8ef8dfe91</td>\n",
              "      <td>0b45f5db20ba99</td>\n",
              "      <td>87e7e4477a048e</td>\n",
              "      <td>1</td>\n",
              "      <td>0</td>\n",
              "      <td>23.40</td>\n",
              "      <td>0</td>\n",
              "      <td>0</td>\n",
              "      <td>4</td>\n",
              "      <td>49</td>\n",
              "      <td>...</td>\n",
              "      <td>1565</td>\n",
              "      <td>0</td>\n",
              "      <td>0.0</td>\n",
              "      <td>0</td>\n",
              "      <td>0.0</td>\n",
              "      <td>0</td>\n",
              "      <td>0</td>\n",
              "      <td>787.8</td>\n",
              "      <td>4</td>\n",
              "      <td>0</td>\n",
              "    </tr>\n",
              "    <tr>\n",
              "      <th>3</th>\n",
              "      <td>cf5b81422591d1</td>\n",
              "      <td>b7497dbdc77f4a</td>\n",
              "      <td>1b9a94f1af67f1</td>\n",
              "      <td>0</td>\n",
              "      <td>0</td>\n",
              "      <td>65.52</td>\n",
              "      <td>0</td>\n",
              "      <td>0</td>\n",
              "      <td>0</td>\n",
              "      <td>54</td>\n",
              "      <td>...</td>\n",
              "      <td>1465</td>\n",
              "      <td>0</td>\n",
              "      <td>0.0</td>\n",
              "      <td>0</td>\n",
              "      <td>0.0</td>\n",
              "      <td>0</td>\n",
              "      <td>0</td>\n",
              "      <td>1812.0</td>\n",
              "      <td>3</td>\n",
              "      <td>0</td>\n",
              "    </tr>\n",
              "    <tr>\n",
              "      <th>4</th>\n",
              "      <td>ee6a295187ba21</td>\n",
              "      <td>6604ce20a1d230</td>\n",
              "      <td>40754a93016066</td>\n",
              "      <td>0</td>\n",
              "      <td>4</td>\n",
              "      <td>330.20</td>\n",
              "      <td>1</td>\n",
              "      <td>2</td>\n",
              "      <td>1</td>\n",
              "      <td>7</td>\n",
              "      <td>...</td>\n",
              "      <td>1480</td>\n",
              "      <td>1</td>\n",
              "      <td>0.0</td>\n",
              "      <td>0</td>\n",
              "      <td>0.0</td>\n",
              "      <td>0</td>\n",
              "      <td>0</td>\n",
              "      <td>2963.0</td>\n",
              "      <td>4</td>\n",
              "      <td>0</td>\n",
              "    </tr>\n",
              "  </tbody>\n",
              "</table>\n",
              "<p>5 rows × 28 columns</p>\n",
              "</div>"
            ],
            "text/plain": [
              "               Id         groupId         matchId  assists  boosts  \\\n",
              "0  9329eb41e215eb  676b23c24e70d6  45b576ab7daa7f        0       0   \n",
              "1  639bd0dcd7bda8  430933124148dd  42a9a0b906c928        0       4   \n",
              "2  63d5c8ef8dfe91  0b45f5db20ba99  87e7e4477a048e        1       0   \n",
              "3  cf5b81422591d1  b7497dbdc77f4a  1b9a94f1af67f1        0       0   \n",
              "4  ee6a295187ba21  6604ce20a1d230  40754a93016066        0       4   \n",
              "\n",
              "   damageDealt  DBNOs  headshotKills  heals  killPlace    ...      rankPoints  \\\n",
              "0        51.46      0              0      0         73    ...            1500   \n",
              "1       179.10      0              0      2         11    ...            1503   \n",
              "2        23.40      0              0      4         49    ...            1565   \n",
              "3        65.52      0              0      0         54    ...            1465   \n",
              "4       330.20      1              2      1          7    ...            1480   \n",
              "\n",
              "   revives  rideDistance  roadKills  swimDistance teamKills  vehicleDestroys  \\\n",
              "0        0           0.0          0           0.0         0                0   \n",
              "1        2        4669.0          0           0.0         0                0   \n",
              "2        0           0.0          0           0.0         0                0   \n",
              "3        0           0.0          0           0.0         0                0   \n",
              "4        1           0.0          0           0.0         0                0   \n",
              "\n",
              "   walkDistance  weaponsAcquired  winPoints  \n",
              "0         588.0                1          0  \n",
              "1        2017.0                6          0  \n",
              "2         787.8                4          0  \n",
              "3        1812.0                3          0  \n",
              "4        2963.0                4          0  \n",
              "\n",
              "[5 rows x 28 columns]"
            ]
          },
          "metadata": {
            "tags": []
          },
          "execution_count": 5
        }
      ]
    },
    {
      "metadata": {
        "id": "iFXmgkdto034",
        "colab_type": "code",
        "outputId": "fad4ac5b-46ac-43b4-e570-e2badb239c57",
        "colab": {
          "base_uri": "https://localhost:8080/",
          "height": 253
        }
      },
      "cell_type": "code",
      "source": [
        "pubg_train.sort_values(by = ['matchId', 'groupId', 'matchType'], inplace = True)\n",
        "pubg_train.head()"
      ],
      "execution_count": 0,
      "outputs": [
        {
          "output_type": "execute_result",
          "data": {
            "text/html": [
              "<div>\n",
              "<style scoped>\n",
              "    .dataframe tbody tr th:only-of-type {\n",
              "        vertical-align: middle;\n",
              "    }\n",
              "\n",
              "    .dataframe tbody tr th {\n",
              "        vertical-align: top;\n",
              "    }\n",
              "\n",
              "    .dataframe thead th {\n",
              "        text-align: right;\n",
              "    }\n",
              "</style>\n",
              "<table border=\"1\" class=\"dataframe\">\n",
              "  <thead>\n",
              "    <tr style=\"text-align: right;\">\n",
              "      <th></th>\n",
              "      <th>Id</th>\n",
              "      <th>groupId</th>\n",
              "      <th>matchId</th>\n",
              "      <th>assists</th>\n",
              "      <th>boosts</th>\n",
              "      <th>damageDealt</th>\n",
              "      <th>DBNOs</th>\n",
              "      <th>headshotKills</th>\n",
              "      <th>heals</th>\n",
              "      <th>killPlace</th>\n",
              "      <th>...</th>\n",
              "      <th>revives</th>\n",
              "      <th>rideDistance</th>\n",
              "      <th>roadKills</th>\n",
              "      <th>swimDistance</th>\n",
              "      <th>teamKills</th>\n",
              "      <th>vehicleDestroys</th>\n",
              "      <th>walkDistance</th>\n",
              "      <th>weaponsAcquired</th>\n",
              "      <th>winPoints</th>\n",
              "      <th>winPlacePerc</th>\n",
              "    </tr>\n",
              "  </thead>\n",
              "  <tbody>\n",
              "    <tr>\n",
              "      <th>2639119</th>\n",
              "      <td>023a9418cf67b0</td>\n",
              "      <td>18b16ec699d8b6</td>\n",
              "      <td>0000a43bce5eec</td>\n",
              "      <td>0</td>\n",
              "      <td>0</td>\n",
              "      <td>200.00</td>\n",
              "      <td>2</td>\n",
              "      <td>0</td>\n",
              "      <td>1</td>\n",
              "      <td>21</td>\n",
              "      <td>...</td>\n",
              "      <td>0</td>\n",
              "      <td>0.0</td>\n",
              "      <td>0</td>\n",
              "      <td>0.0</td>\n",
              "      <td>0</td>\n",
              "      <td>0</td>\n",
              "      <td>73.970</td>\n",
              "      <td>1</td>\n",
              "      <td>1474</td>\n",
              "      <td>0.3333</td>\n",
              "    </tr>\n",
              "    <tr>\n",
              "      <th>2843474</th>\n",
              "      <td>6703bc191cff0a</td>\n",
              "      <td>18b16ec699d8b6</td>\n",
              "      <td>0000a43bce5eec</td>\n",
              "      <td>0</td>\n",
              "      <td>1</td>\n",
              "      <td>19.35</td>\n",
              "      <td>0</td>\n",
              "      <td>0</td>\n",
              "      <td>0</td>\n",
              "      <td>61</td>\n",
              "      <td>...</td>\n",
              "      <td>0</td>\n",
              "      <td>0.0</td>\n",
              "      <td>0</td>\n",
              "      <td>0.0</td>\n",
              "      <td>0</td>\n",
              "      <td>0</td>\n",
              "      <td>189.400</td>\n",
              "      <td>1</td>\n",
              "      <td>1484</td>\n",
              "      <td>0.3333</td>\n",
              "    </tr>\n",
              "    <tr>\n",
              "      <th>1425950</th>\n",
              "      <td>5a3afae17b53c0</td>\n",
              "      <td>236ab9e9c081b9</td>\n",
              "      <td>0000a43bce5eec</td>\n",
              "      <td>0</td>\n",
              "      <td>0</td>\n",
              "      <td>66.65</td>\n",
              "      <td>0</td>\n",
              "      <td>0</td>\n",
              "      <td>0</td>\n",
              "      <td>93</td>\n",
              "      <td>...</td>\n",
              "      <td>0</td>\n",
              "      <td>0.0</td>\n",
              "      <td>0</td>\n",
              "      <td>0.0</td>\n",
              "      <td>0</td>\n",
              "      <td>0</td>\n",
              "      <td>17.510</td>\n",
              "      <td>1</td>\n",
              "      <td>1430</td>\n",
              "      <td>0.0370</td>\n",
              "    </tr>\n",
              "    <tr>\n",
              "      <th>1998699</th>\n",
              "      <td>e431d8a8f6c99b</td>\n",
              "      <td>236ab9e9c081b9</td>\n",
              "      <td>0000a43bce5eec</td>\n",
              "      <td>0</td>\n",
              "      <td>0</td>\n",
              "      <td>21.29</td>\n",
              "      <td>0</td>\n",
              "      <td>0</td>\n",
              "      <td>0</td>\n",
              "      <td>92</td>\n",
              "      <td>...</td>\n",
              "      <td>0</td>\n",
              "      <td>0.0</td>\n",
              "      <td>0</td>\n",
              "      <td>0.0</td>\n",
              "      <td>0</td>\n",
              "      <td>0</td>\n",
              "      <td>5.201</td>\n",
              "      <td>1</td>\n",
              "      <td>1503</td>\n",
              "      <td>0.0370</td>\n",
              "    </tr>\n",
              "    <tr>\n",
              "      <th>2290792</th>\n",
              "      <td>e7b325d63d8393</td>\n",
              "      <td>236ab9e9c081b9</td>\n",
              "      <td>0000a43bce5eec</td>\n",
              "      <td>0</td>\n",
              "      <td>0</td>\n",
              "      <td>0.00</td>\n",
              "      <td>0</td>\n",
              "      <td>0</td>\n",
              "      <td>0</td>\n",
              "      <td>91</td>\n",
              "      <td>...</td>\n",
              "      <td>0</td>\n",
              "      <td>0.0</td>\n",
              "      <td>0</td>\n",
              "      <td>0.0</td>\n",
              "      <td>0</td>\n",
              "      <td>0</td>\n",
              "      <td>18.650</td>\n",
              "      <td>1</td>\n",
              "      <td>1450</td>\n",
              "      <td>0.0370</td>\n",
              "    </tr>\n",
              "  </tbody>\n",
              "</table>\n",
              "<p>5 rows × 29 columns</p>\n",
              "</div>"
            ],
            "text/plain": [
              "                     Id         groupId         matchId  assists  boosts  \\\n",
              "2639119  023a9418cf67b0  18b16ec699d8b6  0000a43bce5eec        0       0   \n",
              "2843474  6703bc191cff0a  18b16ec699d8b6  0000a43bce5eec        0       1   \n",
              "1425950  5a3afae17b53c0  236ab9e9c081b9  0000a43bce5eec        0       0   \n",
              "1998699  e431d8a8f6c99b  236ab9e9c081b9  0000a43bce5eec        0       0   \n",
              "2290792  e7b325d63d8393  236ab9e9c081b9  0000a43bce5eec        0       0   \n",
              "\n",
              "         damageDealt  DBNOs  headshotKills  heals  killPlace      ...       \\\n",
              "2639119       200.00      2              0      1         21      ...        \n",
              "2843474        19.35      0              0      0         61      ...        \n",
              "1425950        66.65      0              0      0         93      ...        \n",
              "1998699        21.29      0              0      0         92      ...        \n",
              "2290792         0.00      0              0      0         91      ...        \n",
              "\n",
              "         revives  rideDistance  roadKills  swimDistance  teamKills  \\\n",
              "2639119        0           0.0          0           0.0          0   \n",
              "2843474        0           0.0          0           0.0          0   \n",
              "1425950        0           0.0          0           0.0          0   \n",
              "1998699        0           0.0          0           0.0          0   \n",
              "2290792        0           0.0          0           0.0          0   \n",
              "\n",
              "        vehicleDestroys  walkDistance  weaponsAcquired  winPoints  \\\n",
              "2639119               0        73.970                1       1474   \n",
              "2843474               0       189.400                1       1484   \n",
              "1425950               0        17.510                1       1430   \n",
              "1998699               0         5.201                1       1503   \n",
              "2290792               0        18.650                1       1450   \n",
              "\n",
              "         winPlacePerc  \n",
              "2639119        0.3333  \n",
              "2843474        0.3333  \n",
              "1425950        0.0370  \n",
              "1998699        0.0370  \n",
              "2290792        0.0370  \n",
              "\n",
              "[5 rows x 29 columns]"
            ]
          },
          "metadata": {
            "tags": []
          },
          "execution_count": 6
        }
      ]
    },
    {
      "metadata": {
        "id": "k2KHArB6-aZK",
        "colab_type": "code",
        "outputId": "c303b778-ea12-4c6f-e3fa-5762c90a202e",
        "colab": {
          "base_uri": "https://localhost:8080/",
          "height": 253
        }
      },
      "cell_type": "code",
      "source": [
        "pubg_test.sort_values(by = ['matchId', 'groupId', 'matchType'], inplace = True)\n",
        "pubg_test.head()"
      ],
      "execution_count": 0,
      "outputs": [
        {
          "output_type": "execute_result",
          "data": {
            "text/html": [
              "<div>\n",
              "<style scoped>\n",
              "    .dataframe tbody tr th:only-of-type {\n",
              "        vertical-align: middle;\n",
              "    }\n",
              "\n",
              "    .dataframe tbody tr th {\n",
              "        vertical-align: top;\n",
              "    }\n",
              "\n",
              "    .dataframe thead th {\n",
              "        text-align: right;\n",
              "    }\n",
              "</style>\n",
              "<table border=\"1\" class=\"dataframe\">\n",
              "  <thead>\n",
              "    <tr style=\"text-align: right;\">\n",
              "      <th></th>\n",
              "      <th>Id</th>\n",
              "      <th>groupId</th>\n",
              "      <th>matchId</th>\n",
              "      <th>assists</th>\n",
              "      <th>boosts</th>\n",
              "      <th>damageDealt</th>\n",
              "      <th>DBNOs</th>\n",
              "      <th>headshotKills</th>\n",
              "      <th>heals</th>\n",
              "      <th>killPlace</th>\n",
              "      <th>...</th>\n",
              "      <th>rankPoints</th>\n",
              "      <th>revives</th>\n",
              "      <th>rideDistance</th>\n",
              "      <th>roadKills</th>\n",
              "      <th>swimDistance</th>\n",
              "      <th>teamKills</th>\n",
              "      <th>vehicleDestroys</th>\n",
              "      <th>walkDistance</th>\n",
              "      <th>weaponsAcquired</th>\n",
              "      <th>winPoints</th>\n",
              "    </tr>\n",
              "  </thead>\n",
              "  <tbody>\n",
              "    <tr>\n",
              "      <th>123846</th>\n",
              "      <td>f52eb1f272953a</td>\n",
              "      <td>01fb9c20f6abc2</td>\n",
              "      <td>0008c31a9be4a7</td>\n",
              "      <td>0</td>\n",
              "      <td>0</td>\n",
              "      <td>0.0</td>\n",
              "      <td>0</td>\n",
              "      <td>0</td>\n",
              "      <td>0</td>\n",
              "      <td>76</td>\n",
              "      <td>...</td>\n",
              "      <td>-1</td>\n",
              "      <td>0</td>\n",
              "      <td>0.0</td>\n",
              "      <td>0</td>\n",
              "      <td>0.0</td>\n",
              "      <td>0</td>\n",
              "      <td>0</td>\n",
              "      <td>127.3</td>\n",
              "      <td>3</td>\n",
              "      <td>1485</td>\n",
              "    </tr>\n",
              "    <tr>\n",
              "      <th>753448</th>\n",
              "      <td>8a145398be1344</td>\n",
              "      <td>01fb9c20f6abc2</td>\n",
              "      <td>0008c31a9be4a7</td>\n",
              "      <td>0</td>\n",
              "      <td>0</td>\n",
              "      <td>0.0</td>\n",
              "      <td>0</td>\n",
              "      <td>0</td>\n",
              "      <td>0</td>\n",
              "      <td>77</td>\n",
              "      <td>...</td>\n",
              "      <td>-1</td>\n",
              "      <td>0</td>\n",
              "      <td>0.0</td>\n",
              "      <td>0</td>\n",
              "      <td>0.0</td>\n",
              "      <td>0</td>\n",
              "      <td>0</td>\n",
              "      <td>433.9</td>\n",
              "      <td>1</td>\n",
              "      <td>1460</td>\n",
              "    </tr>\n",
              "    <tr>\n",
              "      <th>1156055</th>\n",
              "      <td>99507e2f33cfa2</td>\n",
              "      <td>01fb9c20f6abc2</td>\n",
              "      <td>0008c31a9be4a7</td>\n",
              "      <td>0</td>\n",
              "      <td>1</td>\n",
              "      <td>83.0</td>\n",
              "      <td>0</td>\n",
              "      <td>0</td>\n",
              "      <td>0</td>\n",
              "      <td>75</td>\n",
              "      <td>...</td>\n",
              "      <td>-1</td>\n",
              "      <td>0</td>\n",
              "      <td>0.0</td>\n",
              "      <td>0</td>\n",
              "      <td>0.0</td>\n",
              "      <td>0</td>\n",
              "      <td>0</td>\n",
              "      <td>395.2</td>\n",
              "      <td>3</td>\n",
              "      <td>1502</td>\n",
              "    </tr>\n",
              "    <tr>\n",
              "      <th>245937</th>\n",
              "      <td>b710749e3445c7</td>\n",
              "      <td>0943c3f283b976</td>\n",
              "      <td>0008c31a9be4a7</td>\n",
              "      <td>0</td>\n",
              "      <td>6</td>\n",
              "      <td>104.0</td>\n",
              "      <td>1</td>\n",
              "      <td>0</td>\n",
              "      <td>2</td>\n",
              "      <td>22</td>\n",
              "      <td>...</td>\n",
              "      <td>-1</td>\n",
              "      <td>0</td>\n",
              "      <td>432.0</td>\n",
              "      <td>0</td>\n",
              "      <td>0.0</td>\n",
              "      <td>0</td>\n",
              "      <td>0</td>\n",
              "      <td>2855.0</td>\n",
              "      <td>6</td>\n",
              "      <td>1392</td>\n",
              "    </tr>\n",
              "    <tr>\n",
              "      <th>181494</th>\n",
              "      <td>be85c709aca6e3</td>\n",
              "      <td>11b26f1f710257</td>\n",
              "      <td>0008c31a9be4a7</td>\n",
              "      <td>3</td>\n",
              "      <td>4</td>\n",
              "      <td>238.2</td>\n",
              "      <td>1</td>\n",
              "      <td>0</td>\n",
              "      <td>3</td>\n",
              "      <td>20</td>\n",
              "      <td>...</td>\n",
              "      <td>-1</td>\n",
              "      <td>0</td>\n",
              "      <td>0.0</td>\n",
              "      <td>0</td>\n",
              "      <td>0.0</td>\n",
              "      <td>0</td>\n",
              "      <td>0</td>\n",
              "      <td>2914.0</td>\n",
              "      <td>3</td>\n",
              "      <td>1464</td>\n",
              "    </tr>\n",
              "  </tbody>\n",
              "</table>\n",
              "<p>5 rows × 28 columns</p>\n",
              "</div>"
            ],
            "text/plain": [
              "                     Id         groupId         matchId  assists  boosts  \\\n",
              "123846   f52eb1f272953a  01fb9c20f6abc2  0008c31a9be4a7        0       0   \n",
              "753448   8a145398be1344  01fb9c20f6abc2  0008c31a9be4a7        0       0   \n",
              "1156055  99507e2f33cfa2  01fb9c20f6abc2  0008c31a9be4a7        0       1   \n",
              "245937   b710749e3445c7  0943c3f283b976  0008c31a9be4a7        0       6   \n",
              "181494   be85c709aca6e3  11b26f1f710257  0008c31a9be4a7        3       4   \n",
              "\n",
              "         damageDealt  DBNOs  headshotKills  heals  killPlace    ...      \\\n",
              "123846           0.0      0              0      0         76    ...       \n",
              "753448           0.0      0              0      0         77    ...       \n",
              "1156055         83.0      0              0      0         75    ...       \n",
              "245937         104.0      1              0      2         22    ...       \n",
              "181494         238.2      1              0      3         20    ...       \n",
              "\n",
              "         rankPoints  revives  rideDistance  roadKills  swimDistance teamKills  \\\n",
              "123846           -1        0           0.0          0           0.0         0   \n",
              "753448           -1        0           0.0          0           0.0         0   \n",
              "1156055          -1        0           0.0          0           0.0         0   \n",
              "245937           -1        0         432.0          0           0.0         0   \n",
              "181494           -1        0           0.0          0           0.0         0   \n",
              "\n",
              "         vehicleDestroys  walkDistance  weaponsAcquired  winPoints  \n",
              "123846                 0         127.3                3       1485  \n",
              "753448                 0         433.9                1       1460  \n",
              "1156055                0         395.2                3       1502  \n",
              "245937                 0        2855.0                6       1392  \n",
              "181494                 0        2914.0                3       1464  \n",
              "\n",
              "[5 rows x 28 columns]"
            ]
          },
          "metadata": {
            "tags": []
          },
          "execution_count": 7
        }
      ]
    },
    {
      "metadata": {
        "id": "cBBQ3Q6AtS5G",
        "colab_type": "code",
        "outputId": "5281018f-dac0-417f-898c-3de3c5377b6a",
        "colab": {
          "base_uri": "https://localhost:8080/",
          "height": 68
        }
      },
      "cell_type": "code",
      "source": [
        "print(pubg_train['matchType'].unique())"
      ],
      "execution_count": 0,
      "outputs": [
        {
          "output_type": "stream",
          "text": [
            "['squad-fpp' 'solo' 'duo' 'duo-fpp' 'solo-fpp' 'squad' 'normal-solo-fpp'\n",
            " 'normal-squad-fpp' 'normal-solo' 'normal-duo-fpp' 'crashfpp'\n",
            " 'normal-squad' 'flaretpp' 'normal-duo' 'flarefpp' 'crashtpp']\n"
          ],
          "name": "stdout"
        }
      ]
    },
    {
      "metadata": {
        "id": "fC48s9QhuE-x",
        "colab_type": "code",
        "outputId": "e57a00ed-3e56-4f20-ac84-d2dfb73a1f10",
        "colab": {
          "base_uri": "https://localhost:8080/",
          "height": 34
        }
      },
      "cell_type": "code",
      "source": [
        "print(pubg_train.shape)"
      ],
      "execution_count": 0,
      "outputs": [
        {
          "output_type": "stream",
          "text": [
            "(4446966, 29)\n"
          ],
          "name": "stdout"
        }
      ]
    },
    {
      "metadata": {
        "id": "Jw9uiUXa-uCe",
        "colab_type": "code",
        "outputId": "fca783cb-5662-433c-aa43-4e3765393440",
        "colab": {
          "base_uri": "https://localhost:8080/",
          "height": 34
        }
      },
      "cell_type": "code",
      "source": [
        "print(pubg_test.shape)"
      ],
      "execution_count": 0,
      "outputs": [
        {
          "output_type": "stream",
          "text": [
            "(1934174, 28)\n"
          ],
          "name": "stdout"
        }
      ]
    },
    {
      "metadata": {
        "id": "Xr_Vo-0r2C4w",
        "colab_type": "code",
        "outputId": "bbcf9d66-47a7-4cc5-e49f-5756be64eb17",
        "colab": {
          "base_uri": "https://localhost:8080/",
          "height": 136
        }
      },
      "cell_type": "code",
      "source": [
        "pubg_train.columns.values"
      ],
      "execution_count": 0,
      "outputs": [
        {
          "output_type": "execute_result",
          "data": {
            "text/plain": [
              "array(['Id', 'groupId', 'matchId', 'assists', 'boosts', 'damageDealt',\n",
              "       'DBNOs', 'headshotKills', 'heals', 'killPlace', 'killPoints',\n",
              "       'kills', 'killStreaks', 'longestKill', 'matchDuration',\n",
              "       'matchType', 'maxPlace', 'numGroups', 'rankPoints', 'revives',\n",
              "       'rideDistance', 'roadKills', 'swimDistance', 'teamKills',\n",
              "       'vehicleDestroys', 'walkDistance', 'weaponsAcquired', 'winPoints',\n",
              "       'winPlacePerc'], dtype=object)"
            ]
          },
          "metadata": {
            "tags": []
          },
          "execution_count": 11
        }
      ]
    },
    {
      "metadata": {
        "id": "65k68kRVBE_b",
        "colab_type": "code",
        "colab": {}
      },
      "cell_type": "code",
      "source": [
        "pubg_train.dropna(inplace = True)\n",
        "pubg_test.dropna(inplace = True)"
      ],
      "execution_count": 0,
      "outputs": []
    },
    {
      "metadata": {
        "id": "2pH3zcdA5Irk",
        "colab_type": "code",
        "outputId": "e276f3a0-6127-4e21-9054-d87d26d07789",
        "colab": {
          "base_uri": "https://localhost:8080/",
          "height": 34
        }
      },
      "cell_type": "code",
      "source": [
        "X_train = pubg_train.groupby(['groupId'])['assists', 'boosts', 'damageDealt', 'DBNOs',\n",
        "       'headshotKills', 'heals', 'killPlace', 'killPoints', 'kills',\n",
        "       'killStreaks', 'longestKill', 'revives', 'rideDistance',\n",
        "       'roadKills', 'swimDistance', 'vehicleDestroys', 'walkDistance',\n",
        "       'weaponsAcquired', 'winPoints', 'winPlacePerc'].mean()\n",
        "y_train = X_train['winPlacePerc']\n",
        "del X_train['winPlacePerc']\n",
        "X_train.shape, y_train.shape"
      ],
      "execution_count": 0,
      "outputs": [
        {
          "output_type": "execute_result",
          "data": {
            "text/plain": [
              "((2026744, 19), (2026744,))"
            ]
          },
          "metadata": {
            "tags": []
          },
          "execution_count": 13
        }
      ]
    },
    {
      "metadata": {
        "id": "_YdMaOtM_N7W",
        "colab_type": "code",
        "outputId": "7d7a70b8-01ec-4ea5-cb23-d5c69d32dbe8",
        "colab": {
          "base_uri": "https://localhost:8080/",
          "height": 34
        }
      },
      "cell_type": "code",
      "source": [
        "X_test = pubg_test.groupby(['groupId'])['assists', 'boosts', 'damageDealt', 'DBNOs',\n",
        "       'headshotKills', 'heals', 'killPlace', 'killPoints', 'kills',\n",
        "       'killStreaks', 'longestKill', 'revives', 'rideDistance',\n",
        "       'roadKills', 'swimDistance', 'vehicleDestroys', 'walkDistance',\n",
        "       'weaponsAcquired', 'winPoints'].mean()\n",
        "X_test.shape"
      ],
      "execution_count": 0,
      "outputs": [
        {
          "output_type": "execute_result",
          "data": {
            "text/plain": [
              "(886238, 19)"
            ]
          },
          "metadata": {
            "tags": []
          },
          "execution_count": 14
        }
      ]
    },
    {
      "metadata": {
        "id": "MrttHdEG6bjG",
        "colab_type": "code",
        "colab": {}
      },
      "cell_type": "code",
      "source": [
        "from sklearn.preprocessing import StandardScaler\n",
        "from sklearn.linear_model import LinearRegression"
      ],
      "execution_count": 0,
      "outputs": []
    },
    {
      "metadata": {
        "id": "hqm_DtKI8_el",
        "colab_type": "code",
        "colab": {}
      },
      "cell_type": "code",
      "source": [
        "sc = StandardScaler()\n",
        "X_train_std = sc.fit_transform(X_train)\n",
        "X_test_std = sc.transform(X_test)"
      ],
      "execution_count": 0,
      "outputs": []
    },
    {
      "metadata": {
        "id": "T7-vvvbV_ubs",
        "colab_type": "code",
        "colab": {}
      },
      "cell_type": "code",
      "source": [
        "reg = LinearRegression().fit(X_train_std, y_train)"
      ],
      "execution_count": 0,
      "outputs": []
    },
    {
      "metadata": {
        "id": "A8uxuEV6A0nH",
        "colab_type": "code",
        "outputId": "b0f76634-8e14-48cc-cb06-270e82d4ea1a",
        "colab": {
          "base_uri": "https://localhost:8080/",
          "height": 34
        }
      },
      "cell_type": "code",
      "source": [
        "y_test = reg.predict(X_test_std)\n",
        "print(y_test.shape)"
      ],
      "execution_count": 0,
      "outputs": [
        {
          "output_type": "stream",
          "text": [
            "(886238,)\n"
          ],
          "name": "stdout"
        }
      ]
    },
    {
      "metadata": {
        "id": "4flAaphiFDZz",
        "colab_type": "code",
        "colab": {}
      },
      "cell_type": "code",
      "source": [
        "final =  pd.DataFrame({'groupId': pubg_test['groupId'].unique(), 'winPlacePerc': y_test})\n",
        "submission = pd.DataFrame({'Id': pubg_test['Id'], 'groupId': pubg_test['groupId']})"
      ],
      "execution_count": 0,
      "outputs": []
    },
    {
      "metadata": {
        "id": "qC0VpLzOTaNX",
        "colab_type": "code",
        "outputId": "94bf1064-2aa7-404f-c22c-6ca2c31d6c30",
        "colab": {
          "base_uri": "https://localhost:8080/",
          "height": 204
        }
      },
      "cell_type": "code",
      "source": [
        "submission = submission.merge(final, on = 'groupId')\n",
        "submission.head()"
      ],
      "execution_count": 0,
      "outputs": [
        {
          "output_type": "execute_result",
          "data": {
            "text/html": [
              "<div>\n",
              "<style scoped>\n",
              "    .dataframe tbody tr th:only-of-type {\n",
              "        vertical-align: middle;\n",
              "    }\n",
              "\n",
              "    .dataframe tbody tr th {\n",
              "        vertical-align: top;\n",
              "    }\n",
              "\n",
              "    .dataframe thead th {\n",
              "        text-align: right;\n",
              "    }\n",
              "</style>\n",
              "<table border=\"1\" class=\"dataframe\">\n",
              "  <thead>\n",
              "    <tr style=\"text-align: right;\">\n",
              "      <th></th>\n",
              "      <th>Id</th>\n",
              "      <th>groupId</th>\n",
              "      <th>winPlacePerc</th>\n",
              "    </tr>\n",
              "  </thead>\n",
              "  <tbody>\n",
              "    <tr>\n",
              "      <th>0</th>\n",
              "      <td>f52eb1f272953a</td>\n",
              "      <td>01fb9c20f6abc2</td>\n",
              "      <td>0.815772</td>\n",
              "    </tr>\n",
              "    <tr>\n",
              "      <th>1</th>\n",
              "      <td>8a145398be1344</td>\n",
              "      <td>01fb9c20f6abc2</td>\n",
              "      <td>0.815772</td>\n",
              "    </tr>\n",
              "    <tr>\n",
              "      <th>2</th>\n",
              "      <td>99507e2f33cfa2</td>\n",
              "      <td>01fb9c20f6abc2</td>\n",
              "      <td>0.815772</td>\n",
              "    </tr>\n",
              "    <tr>\n",
              "      <th>3</th>\n",
              "      <td>b710749e3445c7</td>\n",
              "      <td>0943c3f283b976</td>\n",
              "      <td>0.286193</td>\n",
              "    </tr>\n",
              "    <tr>\n",
              "      <th>4</th>\n",
              "      <td>be85c709aca6e3</td>\n",
              "      <td>11b26f1f710257</td>\n",
              "      <td>0.835316</td>\n",
              "    </tr>\n",
              "  </tbody>\n",
              "</table>\n",
              "</div>"
            ],
            "text/plain": [
              "               Id         groupId  winPlacePerc\n",
              "0  f52eb1f272953a  01fb9c20f6abc2      0.815772\n",
              "1  8a145398be1344  01fb9c20f6abc2      0.815772\n",
              "2  99507e2f33cfa2  01fb9c20f6abc2      0.815772\n",
              "3  b710749e3445c7  0943c3f283b976      0.286193\n",
              "4  be85c709aca6e3  11b26f1f710257      0.835316"
            ]
          },
          "metadata": {
            "tags": []
          },
          "execution_count": 59
        }
      ]
    },
    {
      "metadata": {
        "id": "r_TfhfCnWiUA",
        "colab_type": "code",
        "colab": {}
      },
      "cell_type": "code",
      "source": [
        "del submission['groupId']"
      ],
      "execution_count": 0,
      "outputs": []
    },
    {
      "metadata": {
        "id": "g2W2Y0eeZ2uI",
        "colab_type": "code",
        "colab": {}
      },
      "cell_type": "code",
      "source": [
        "submission.to_csv('submission1.csv', sep='\\t')"
      ],
      "execution_count": 0,
      "outputs": []
    },
    {
      "metadata": {
        "id": "EHrAS5DNaaT-",
        "colab_type": "code",
        "colab": {}
      },
      "cell_type": "code",
      "source": [
        "from google.colab import files\n",
        "files.download(\"submission1.csv\")"
      ],
      "execution_count": 0,
      "outputs": []
    },
    {
      "metadata": {
        "id": "tSUf6f2oaiuO",
        "colab_type": "code",
        "colab": {}
      },
      "cell_type": "code",
      "source": [
        ""
      ],
      "execution_count": 0,
      "outputs": []
    }
  ]
}